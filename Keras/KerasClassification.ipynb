{
  "nbformat": 4,
  "nbformat_minor": 0,
  "metadata": {
    "colab": {
      "name": "KerasClassification.ipynb",
      "provenance": []
    },
    "kernelspec": {
      "name": "python3",
      "display_name": "Python 3"
    },
    "language_info": {
      "name": "python"
    }
  },
  "cells": [
    {
      "cell_type": "markdown",
      "metadata": {
        "id": "TvE-I_5fieIQ"
      },
      "source": [
        "# Building a simple neural network classification model with Keras\n",
        "My goal here is to make a simple neural network with capability to classify handwritten digits.\n",
        "\n"
      ]
    },
    {
      "cell_type": "code",
      "metadata": {
        "id": "zzv6h_WphwlN"
      },
      "source": [
        "import keras\n",
        "from keras.datasets import mnist"
      ],
      "execution_count": 33,
      "outputs": []
    },
    {
      "cell_type": "code",
      "metadata": {
        "id": "a9YPWLQeiQO3"
      },
      "source": [
        "(X_train, y_train), (X_test, y_test) = mnist.load_data() #importing mnist dataset (images of handwritten digits)"
      ],
      "execution_count": 34,
      "outputs": []
    },
    {
      "cell_type": "code",
      "metadata": {
        "colab": {
          "base_uri": "https://localhost:8080/"
        },
        "id": "xuxFL8VxiR3K",
        "outputId": "7baa0fcc-4a80-413f-ec48-e787eb5dc721"
      },
      "source": [
        "X_train.shape #showing the shape of the loaded images"
      ],
      "execution_count": 35,
      "outputs": [
        {
          "output_type": "execute_result",
          "data": {
            "text/plain": [
              "(60000, 28, 28)"
            ]
          },
          "metadata": {
            "tags": []
          },
          "execution_count": 35
        }
      ]
    },
    {
      "cell_type": "code",
      "metadata": {
        "colab": {
          "base_uri": "https://localhost:8080/",
          "height": 282
        },
        "id": "4Rv8equRiTXz",
        "outputId": "0716178a-1feb-44f1-f8e1-ff792afae3c2"
      },
      "source": [
        "import matplotlib.pyplot as plt\n",
        "plt.imshow(X_train[31])  #showing one image"
      ],
      "execution_count": 38,
      "outputs": [
        {
          "output_type": "execute_result",
          "data": {
            "text/plain": [
              "<matplotlib.image.AxesImage at 0x7f07255f5190>"
            ]
          },
          "metadata": {
            "tags": []
          },
          "execution_count": 38
        },
        {
          "output_type": "display_data",
          "data": {
            "image/png": "[encoded data removed]",
            "text/plain": [
              "<Figure size 432x288 with 1 Axes>"
            ]
          },
          "metadata": {
            "tags": [],
            "needs_background": "light"
          }
        }
      ]
    },
    {
      "cell_type": "markdown",
      "metadata": {
        "id": "EWibAwO7jfUE"
      },
      "source": [
        "We need to flatten these images because a simple neural network can't work with images as inputs. Later on this repository you'll be able to see a CNN."
      ]
    },
    {
      "cell_type": "code",
      "metadata": {
        "id": "hC78CnbejU9Y"
      },
      "source": [
        "num_pixels = X_train.shape[1] * X_train.shape[2] #find size of one-dimensional vector (28*28)\n",
        "\n",
        "X_train = X_train.reshape(X_train.shape[0], num_pixels).astype('float32') #flatten training set\n",
        "X_test = X_test.reshape(X_test.shape[0], num_pixels).astype('float32') #flatten test set"
      ],
      "execution_count": 39,
      "outputs": []
    },
    {
      "cell_type": "code",
      "metadata": {
        "id": "bXBhfi5NiVue"
      },
      "source": [
        "#Normalizing the vectors to be between 0 and 1\n",
        "\n",
        "from sklearn.preprocessing import scale\n",
        "X_train = X_train/255\n",
        "X_test = X_test/255"
      ],
      "execution_count": null,
      "outputs": []
    },
    {
      "cell_type": "code",
      "metadata": {
        "colab": {
          "base_uri": "https://localhost:8080/"
        },
        "id": "6PS5sPfBktdw",
        "outputId": "c7de24a4-f768-40da-a872-4dc596f29c5a"
      },
      "source": [
        "#one hot encode outputs for being able to use as targets\n",
        "from keras.utils import to_categorical\n",
        "y_train = to_categorical(y_train)\n",
        "y_test = to_categorical(y_test)\n",
        "\n",
        "num_classes = y_test.shape[1]\n",
        "print(num_classes)"
      ],
      "execution_count": 41,
      "outputs": [
        {
          "output_type": "stream",
          "text": [
            "10\n"
          ],
          "name": "stdout"
        }
      ]
    },
    {
      "cell_type": "code",
      "metadata": {
        "id": "nkb40RjwlJRF"
      },
      "source": [
        "from keras.models import Sequential\n",
        "from keras.layers import Dense\n",
        "\n",
        "model = Sequential()\n",
        "model.add(Dense(num_pixels, activation='relu', input_shape=(num_pixels,))) #define the input shape of our model\n",
        "model.add(Dense(100, activation='relu')) #define how many neurons we have in our first (and only) hidden layer\n",
        "model.add(Dense(num_classes, activation='softmax')) #output layer with 10 neurons (10 possible digits)\n",
        "\n",
        "model.compile(optimizer='adam', loss='categorical_crossentropy', metrics=['accuracy'])"
      ],
      "execution_count": 42,
      "outputs": []
    },
    {
      "cell_type": "code",
      "metadata": {
        "colab": {
          "base_uri": "https://localhost:8080/"
        },
        "id": "xeiQmYsnmgd8",
        "outputId": "32886cc7-0c1e-44fc-e715-acc147d4514a"
      },
      "source": [
        "model.fit(X_train, y_train, validation_data=(X_test, y_test), epochs=10, verbose=2)\n",
        "\n",
        "#evaluate the model\n",
        "scores = model.evaluate(X_test, y_test, verbose=0)"
      ],
      "execution_count": 43,
      "outputs": [
        {
          "output_type": "stream",
          "text": [
            "Epoch 1/10\n",
            "1875/1875 - 11s - loss: 0.2173 - accuracy: 0.9373 - val_loss: 0.1419 - val_accuracy: 0.9630\n",
            "Epoch 2/10\n",
            "1875/1875 - 10s - loss: 0.1122 - accuracy: 0.9676 - val_loss: 0.1336 - val_accuracy: 0.9668\n",
            "Epoch 3/10\n",
            "1875/1875 - 10s - loss: 0.0858 - accuracy: 0.9751 - val_loss: 0.1256 - val_accuracy: 0.9704\n",
            "Epoch 4/10\n",
            "1875/1875 - 10s - loss: 0.0729 - accuracy: 0.9792 - val_loss: 0.1626 - val_accuracy: 0.9646\n",
            "Epoch 5/10\n",
            "1875/1875 - 10s - loss: 0.0546 - accuracy: 0.9838 - val_loss: 0.1635 - val_accuracy: 0.9665\n",
            "Epoch 6/10\n",
            "1875/1875 - 10s - loss: 0.0530 - accuracy: 0.9853 - val_loss: 0.1460 - val_accuracy: 0.9710\n",
            "Epoch 7/10\n",
            "1875/1875 - 10s - loss: 0.0520 - accuracy: 0.9854 - val_loss: 0.1655 - val_accuracy: 0.9699\n",
            "Epoch 8/10\n",
            "1875/1875 - 10s - loss: 0.0480 - accuracy: 0.9872 - val_loss: 0.1531 - val_accuracy: 0.9736\n",
            "Epoch 9/10\n",
            "1875/1875 - 9s - loss: 0.0390 - accuracy: 0.9898 - val_loss: 0.1862 - val_accuracy: 0.9718\n",
            "Epoch 10/10\n",
            "1875/1875 - 9s - loss: 0.0431 - accuracy: 0.9895 - val_loss: 0.2080 - val_accuracy: 0.9736\n"
          ],
          "name": "stdout"
        }
      ]
    },
    {
      "cell_type": "code",
      "metadata": {
        "colab": {
          "base_uri": "https://localhost:8080/"
        },
        "id": "KakYtuE3m45D",
        "outputId": "62367371-1bd3-4297-ea25-4ac01d3572b7"
      },
      "source": [
        "print('Accuracy: {}% \\n Error: {}'.format(scores[1], 1 - scores[1])) "
      ],
      "execution_count": 44,
      "outputs": [
        {
          "output_type": "stream",
          "text": [
            "Accuracy: 0.9735999703407288% \n",
            " Error: 0.02640002965927124\n"
          ],
          "name": "stdout"
        }
      ]
    }
  ]
}