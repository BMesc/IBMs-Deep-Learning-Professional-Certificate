{
  "nbformat": 4,
  "nbformat_minor": 0,
  "metadata": {
    "kernelspec": {
      "display_name": "Python",
      "language": "python",
      "name": "conda-env-python-py"
    },
    "language_info": {
      "codemirror_mode": {
        "name": "ipython",
        "version": 3
      },
      "file_extension": ".py",
      "mimetype": "text/x-python",
      "name": "python",
      "nbconvert_exporter": "python",
      "pygments_lexer": "ipython3",
      "version": "3.6.7"
    },
    "colab": {
      "name": "CNN Keras.ipynb",
      "provenance": []
    }
  },
  "cells": [
    {
      "cell_type": "markdown",
      "metadata": {
        "id": "suS7CzDOpdrO"
      },
      "source": [
        "\n",
        "\n",
        "```\n",
        "\n",
        "```\n",
        "\n",
        "## Using Keras to develop a CNN model\n"
      ]
    },
    {
      "cell_type": "markdown",
      "metadata": {
        "id": "zqKHKga9pdrP"
      },
      "source": [
        "Importing Keras and packages to create our model"
      ]
    },
    {
      "cell_type": "code",
      "metadata": {
        "id": "ZNmGEqSMpdrP"
      },
      "source": [
        "import keras\n",
        "from keras.models import Sequential\n",
        "from keras.layers import Dense\n",
        "from keras.utils import to_categorical"
      ],
      "execution_count": null,
      "outputs": []
    },
    {
      "cell_type": "code",
      "metadata": {
        "id": "ZdHjFxYJpdrR"
      },
      "source": [
        "from keras.layers.convolutional import Conv2D # to add convolutional layers\n",
        "from keras.layers.convolutional import MaxPooling2D # to add pooling layers\n",
        "from keras.layers import Flatten # to flatten data for fully connected layers"
      ],
      "execution_count": null,
      "outputs": []
    },
    {
      "cell_type": "markdown",
      "metadata": {
        "id": "dLWvwczgpdrT"
      },
      "source": [
        "<a id='item42'></a>\n"
      ]
    },
    {
      "cell_type": "markdown",
      "metadata": {
        "id": "nWc5D5whpdrU"
      },
      "source": [
        "## Convolutional Layer with One set of convolutional and pooling layers\n"
      ]
    },
    {
      "cell_type": "code",
      "metadata": {
        "colab": {
          "base_uri": "https://localhost:8080/"
        },
        "id": "jZhytvNspdrU",
        "outputId": "6fc65ac3-769e-4d4b-a475-c2459bf459bd"
      },
      "source": [
        "# import data\n",
        "from keras.datasets import mnist\n",
        "\n",
        "# load data\n",
        "(X_train, y_train), (X_test, y_test) = mnist.load_data()\n",
        "\n",
        "# reshape to be [samples][pixels][width][height]\n",
        "X_train = X_train.reshape(X_train.shape[0], 28, 28, 1).astype('float32')\n",
        "X_test = X_test.reshape(X_test.shape[0], 28, 28, 1).astype('float32')"
      ],
      "execution_count": null,
      "outputs": [
        {
          "output_type": "stream",
          "text": [
            "Downloading data from https://storage.googleapis.com/tensorflow/tf-keras-datasets/mnist.npz\n",
            "11493376/11490434 [==============================] - 0s 0us/step\n"
          ],
          "name": "stdout"
        }
      ]
    },
    {
      "cell_type": "markdown",
      "metadata": {
        "id": "NY_iAYnnpdrV"
      },
      "source": [
        "Let's normalize the pixel values to be between 0 and 1\n"
      ]
    },
    {
      "cell_type": "code",
      "metadata": {
        "id": "mP5M8TAVpdrV"
      },
      "source": [
        "X_train = X_train / 255 # normalize training data\n",
        "X_test = X_test / 255 # normalize test data"
      ],
      "execution_count": null,
      "outputs": []
    },
    {
      "cell_type": "markdown",
      "metadata": {
        "id": "KVnxZ0YXpdrW"
      },
      "source": [
        "Next, let's convert the target variable into binary categories\n"
      ]
    },
    {
      "cell_type": "code",
      "metadata": {
        "id": "_uNglFCLpdrW"
      },
      "source": [
        "y_train = to_categorical(y_train)\n",
        "y_test = to_categorical(y_test)\n",
        "\n",
        "num_classes = y_test.shape[1] # number of categories"
      ],
      "execution_count": null,
      "outputs": []
    },
    {
      "cell_type": "markdown",
      "metadata": {
        "id": "f8uJvfcMpdrX"
      },
      "source": [
        "Next, let's define a function that creates our model. Let's start with one set of convolutional and pooling layers.\n"
      ]
    },
    {
      "cell_type": "code",
      "metadata": {
        "id": "v044OnCXpdrX"
      },
      "source": [
        "def convolutional_model():\n",
        "    \n",
        "    # create model\n",
        "    model = Sequential()\n",
        "    model.add(Conv2D(16, (5, 5), strides=(1, 1), activation='relu', input_shape=(28, 28, 1)))\n",
        "    model.add(MaxPooling2D(pool_size=(2, 2), strides=(2, 2)))\n",
        "    \n",
        "    model.add(Flatten())\n",
        "    model.add(Dense(100, activation='relu')) #using relu as activation function\n",
        "    model.add(Dense(num_classes, activation='softmax'))\n",
        "    \n",
        "    # compile model\n",
        "    model.compile(optimizer='adam', loss='categorical_crossentropy',  metrics=['accuracy'])\n",
        "    return model"
      ],
      "execution_count": null,
      "outputs": []
    },
    {
      "cell_type": "markdown",
      "metadata": {
        "id": "0Pu9bqOfpdrY"
      },
      "source": [
        "Finally, let's call the function to create the model, and then let's train it and evaluate it.\n"
      ]
    },
    {
      "cell_type": "code",
      "metadata": {
        "colab": {
          "base_uri": "https://localhost:8080/"
        },
        "id": "mgmqdWTmpdrY",
        "outputId": "d806445e-b459-4c9b-8c96-0ffeb5c8edc9"
      },
      "source": [
        "# build the model\n",
        "model = convolutional_model()\n",
        "\n",
        "# fit the model\n",
        "model.fit(X_train, y_train, validation_data=(X_test, y_test), epochs=10, batch_size=200, verbose=2)"
      ],
      "execution_count": null,
      "outputs": [
        {
          "output_type": "stream",
          "text": [
            "Epoch 1/10\n",
            "300/300 - 16s - loss: 0.3087 - accuracy: 0.9131 - val_loss: 0.1164 - val_accuracy: 0.9655\n",
            "Epoch 2/10\n",
            "300/300 - 16s - loss: 0.0942 - accuracy: 0.9729 - val_loss: 0.0833 - val_accuracy: 0.9747\n",
            "Epoch 3/10\n",
            "300/300 - 15s - loss: 0.0621 - accuracy: 0.9817 - val_loss: 0.0546 - val_accuracy: 0.9825\n",
            "Epoch 4/10\n",
            "300/300 - 15s - loss: 0.0486 - accuracy: 0.9855 - val_loss: 0.0453 - val_accuracy: 0.9850\n",
            "Epoch 5/10\n",
            "300/300 - 15s - loss: 0.0392 - accuracy: 0.9884 - val_loss: 0.0427 - val_accuracy: 0.9862\n",
            "Epoch 6/10\n",
            "300/300 - 15s - loss: 0.0333 - accuracy: 0.9898 - val_loss: 0.0387 - val_accuracy: 0.9877\n",
            "Epoch 7/10\n",
            "300/300 - 15s - loss: 0.0271 - accuracy: 0.9918 - val_loss: 0.0355 - val_accuracy: 0.9879\n",
            "Epoch 8/10\n",
            "300/300 - 15s - loss: 0.0229 - accuracy: 0.9933 - val_loss: 0.0417 - val_accuracy: 0.9869\n",
            "Epoch 9/10\n",
            "300/300 - 15s - loss: 0.0193 - accuracy: 0.9941 - val_loss: 0.0398 - val_accuracy: 0.9871\n",
            "Epoch 10/10\n",
            "300/300 - 15s - loss: 0.0176 - accuracy: 0.9946 - val_loss: 0.0384 - val_accuracy: 0.9880\n"
          ],
          "name": "stdout"
        },
        {
          "output_type": "execute_result",
          "data": {
            "text/plain": [
              "<tensorflow.python.keras.callbacks.History at 0x7fee37877bd0>"
            ]
          },
          "metadata": {
            "tags": []
          },
          "execution_count": 9
        }
      ]
    },
    {
      "cell_type": "code",
      "metadata": {
        "colab": {
          "base_uri": "https://localhost:8080/"
        },
        "id": "v3lXJW83qAIp",
        "outputId": "b63a16a3-40b6-4a93-ce09-3632f9a8835b"
      },
      "source": [
        "# evaluate the model\n",
        "scores = model.evaluate(X_test, y_test, verbose=2)\n",
        "print(\"Accuracy: {} \\n Error: {}\".format(scores[1], 100-scores[1]*100))"
      ],
      "execution_count": null,
      "outputs": [
        {
          "output_type": "stream",
          "text": [
            "313/313 - 2s - loss: 0.0384 - accuracy: 0.9880\n",
            "Accuracy: 0.9879999756813049 \n",
            " Error: 1.2000024318695068\n"
          ],
          "name": "stdout"
        }
      ]
    },
    {
      "cell_type": "markdown",
      "metadata": {
        "id": "my4O9qw9pdrZ"
      },
      "source": [
        "<a id='item43'></a>\n"
      ]
    }
  ]
}